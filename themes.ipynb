{
 "cells": [
  {
   "cell_type": "markdown",
   "id": "90554f33",
   "metadata": {},
   "source": [
    "# from jupyterthemes import jtplot"
   ]
  },
  {
   "cell_type": "markdown",
   "id": "1d0b9da4",
   "metadata": {},
   "source": [
    "jtplot.style(theme='onedork', ticks=True,)"
   ]
  },
  {
   "cell_type": "code",
   "execution_count": 15,
   "id": "08859c84",
   "metadata": {},
   "outputs": [],
   "source": [
    "# !jt -vim"
   ]
  },
  {
   "cell_type": "code",
   "execution_count": 23,
   "id": "5cb4dd4f",
   "metadata": {},
   "outputs": [
    {
     "name": "stdout",
     "output_type": "stream",
     "text": [
      "Reset css and font defaults in:\n",
      "C:\\Users\\bunyaminkeles\\.jupyter\\custom &\n",
      "C:\\Users\\bunyaminkeles\\AppData\\Roaming\\jupyter\\nbextensions\n"
     ]
    }
   ],
   "source": [
    "# !jt -r"
   ]
  },
  {
   "cell_type": "code",
   "execution_count": 24,
   "id": "f40f2bd9",
   "metadata": {},
   "outputs": [],
   "source": [
    "!jt -t chesterish -T -N -kl -tf ptsans -tfs 13 -f fira -fs 11 -ofs 10 -nf ptsans -nfs 13 -cursw 2 -cursc r -cellw 88% -vim"
   ]
  },
  {
   "cell_type": "code",
   "execution_count": 29,
   "id": "6ea1b9a6",
   "metadata": {},
   "outputs": [],
   "source": [
    "import seaborn as sns\n",
    "sns.set_style(\"whitegrid\")"
   ]
  },
  {
   "cell_type": "code",
   "execution_count": null,
   "id": "0077f3ac",
   "metadata": {},
   "outputs": [],
   "source": []
  },
  {
   "cell_type": "code",
   "execution_count": null,
   "id": "4f37da7c",
   "metadata": {},
   "outputs": [],
   "source": []
  },
  {
   "cell_type": "code",
   "execution_count": null,
   "id": "d9635a6e",
   "metadata": {},
   "outputs": [],
   "source": [
    "### Dark theme for jupyter notebook, no need to run.\n",
    "#!pip install jupyterthemes\n",
    "#!pip install --upgrade jupyterthemes\n",
    "#!jt -l\n",
    "#emir's choice\n",
    "#!jt -t chesterish -T -N -kl -tf ptsans -tfs 13 -f fira -fs 11 -ofs 10 -nf ptsans -nfs 13 -cursw 2 -cursc r -cellw 88% -vim\n",
    "\n",
    "# from jupyterthemes import jtplot\n",
    "\n",
    "# choose which theme to inherit plotting style from\n",
    "# onedork | grade3 | oceans16 | chesterish | monokai | solarizedl | solarizedd\n",
    "# jtplot.style(theme='chesterish', ticks=True,)\n",
    "# sns.set_style(\"whitegrid\")\n"
   ]
  },
  {
   "cell_type": "code",
   "execution_count": null,
   "id": "a045b186",
   "metadata": {},
   "outputs": [],
   "source": []
  }
 ],
 "metadata": {
  "kernelspec": {
   "display_name": "Python 3",
   "language": "python",
   "name": "python3"
  },
  "language_info": {
   "codemirror_mode": {
    "name": "ipython",
    "version": 3
   },
   "file_extension": ".py",
   "mimetype": "text/x-python",
   "name": "python",
   "nbconvert_exporter": "python",
   "pygments_lexer": "ipython3",
   "version": "3.8.8"
  }
 },
 "nbformat": 4,
 "nbformat_minor": 5
}
